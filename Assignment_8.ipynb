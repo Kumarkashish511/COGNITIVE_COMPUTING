{
  "nbformat": 4,
  "nbformat_minor": 0,
  "metadata": {
    "colab": {
      "provenance": [],
      "authorship_tag": "ABX9TyMabIrAjELSD+SgJaJX5AUN",
      "include_colab_link": true
    },
    "kernelspec": {
      "name": "python3",
      "display_name": "Python 3"
    },
    "language_info": {
      "name": "python"
    }
  },
  "cells": [
    {
      "cell_type": "markdown",
      "metadata": {
        "id": "view-in-github",
        "colab_type": "text"
      },
      "source": [
        "<a href=\"https://colab.research.google.com/github/Kumarkashish511/COGNITIVE_COMPUTING/blob/main/Assignment_8.ipynb\" target=\"_parent\"><img src=\"https://colab.research.google.com/assets/colab-badge.svg\" alt=\"Open In Colab\"/></a>"
      ]
    },
    {
      "cell_type": "code",
      "execution_count": 16,
      "metadata": {
        "colab": {
          "base_uri": "https://localhost:8080/"
        },
        "id": "FraLGzis-LFK",
        "outputId": "8cfc7e67-519b-4712-8096-cd7bda712776"
      },
      "outputs": [
        {
          "output_type": "stream",
          "name": "stdout",
          "text": [
            "Model Accuracy:\n",
            " 0.9666666666666667\n",
            "Performance Report:\n",
            "               precision    recall  f1-score   support\n",
            "\n",
            "      setosa       1.00      1.00      1.00        10\n",
            "  versicolor       1.00      0.89      0.94         9\n",
            "   virginica       0.92      1.00      0.96        11\n",
            "\n",
            "    accuracy                           0.97        30\n",
            "   macro avg       0.97      0.96      0.97        30\n",
            "weighted avg       0.97      0.97      0.97        30\n",
            "\n"
          ]
        }
      ],
      "source": [
        "import numpy as np\n",
        "from sklearn.datasets import load_iris\n",
        "from sklearn.model_selection import train_test_split\n",
        "from sklearn.multiclass import OneVsRestClassifier\n",
        "from sklearn.linear_model import LogisticRegression\n",
        "from sklearn.metrics import accuracy_score, classification_report\n",
        "\n",
        "# Load the iris dataset\n",
        "iris = load_iris()\n",
        "data= iris.data\n",
        "labels= iris.target\n",
        "\n",
        "# Splitting the dataset into training and testing sets\n",
        "train_data, test_data, train_labels, test_labels = train_test_split(data, labels, test_size=0.2, random_state=42)\n",
        "\n",
        "# Initialize logistic regression model\n",
        "logistic_model = OneVsRestClassifier(LogisticRegression(max_iter=500))\n",
        "\n",
        "#train logistic regression model\n",
        "logistic_model.fit(train_data, train_labels)\n",
        "\n",
        "# Predict on test data\n",
        "predictions = logistic_model.predict(test_data)\n",
        "\n",
        "# Evaluating the model\n",
        "model_accuracy = accuracy_score(test_labels, predictions)\n",
        "performance_report = classification_report(test_labels, predictions, target_names=iris.target_names)\n",
        "\n",
        "print('Model Accuracy:\\n', model_accuracy)\n",
        "print('Performance Report:\\n', performance_report)\n"
      ]
    }
  ]
}