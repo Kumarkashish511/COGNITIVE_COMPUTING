{
  "nbformat": 4,
  "nbformat_minor": 0,
  "metadata": {
    "colab": {
      "provenance": [],
      "authorship_tag": "ABX9TyO0g0+rpj6JQv5K4EdjFTRc",
      "include_colab_link": true
    },
    "kernelspec": {
      "name": "python3",
      "display_name": "Python 3"
    },
    "language_info": {
      "name": "python"
    }
  },
  "cells": [
    {
      "cell_type": "markdown",
      "metadata": {
        "id": "view-in-github",
        "colab_type": "text"
      },
      "source": [
        "<a href=\"https://colab.research.google.com/github/Kumarkashish511/COGNITIVE_COMPUTING/blob/main/Assignment2.ipynb\" target=\"_parent\"><img src=\"https://colab.research.google.com/assets/colab-badge.svg\" alt=\"Open In Colab\"/></a>"
      ]
    },
    {
      "cell_type": "code",
      "execution_count": 1,
      "metadata": {
        "colab": {
          "base_uri": "https://localhost:8080/"
        },
        "id": "6mGBW_KLhQOH",
        "outputId": "05e421f2-d1cf-475a-af33-301a6d8e9388"
      },
      "outputs": [
        {
          "output_type": "stream",
          "name": "stdout",
          "text": [
            "[10, 20, 30, 40, 50, 60, 70, 80, 200, 300]\n"
          ]
        }
      ],
      "source": [
        "L=[10,20,30,40,50,60,70,80]\n",
        "L.append(200)\n",
        "L.append(300)\n",
        "print(L)"
      ]
    },
    {
      "cell_type": "code",
      "source": [
        "L.remove(10)\n",
        "L.remove(30)\n",
        "print(L)"
      ],
      "metadata": {
        "colab": {
          "base_uri": "https://localhost:8080/"
        },
        "id": "46bKTM_WhhXX",
        "outputId": "2a611934-6b33-486b-825d-62681087596d"
      },
      "execution_count": 2,
      "outputs": [
        {
          "output_type": "stream",
          "name": "stdout",
          "text": [
            "[20, 40, 50, 60, 70, 80, 200, 300]\n"
          ]
        }
      ]
    },
    {
      "cell_type": "code",
      "source": [
        "L.sort()\n",
        "print(L)"
      ],
      "metadata": {
        "colab": {
          "base_uri": "https://localhost:8080/"
        },
        "id": "wHFiKdSBhqmK",
        "outputId": "6a8b2ccc-98a8-4095-9fdc-f772e55284cf"
      },
      "execution_count": 3,
      "outputs": [
        {
          "output_type": "stream",
          "name": "stdout",
          "text": [
            "[20, 40, 50, 60, 70, 80, 200, 300]\n"
          ]
        }
      ]
    },
    {
      "cell_type": "code",
      "source": [
        "L.sort(reverse=True)\n",
        "print(L)"
      ],
      "metadata": {
        "colab": {
          "base_uri": "https://localhost:8080/"
        },
        "id": "2zTAgopchs6V",
        "outputId": "55c2dea1-15c0-49c6-d008-7c5f991c16a6"
      },
      "execution_count": 4,
      "outputs": [
        {
          "output_type": "stream",
          "name": "stdout",
          "text": [
            "[300, 200, 80, 70, 60, 50, 40, 20]\n"
          ]
        }
      ]
    },
    {
      "cell_type": "code",
      "source": [
        "T=(45, 89.5, 76, 45.4, 89, 92, 58, 45)\n",
        "MAX=max(T)\n",
        "print(MAX)\n",
        "print(T.index(MAX))"
      ],
      "metadata": {
        "colab": {
          "base_uri": "https://localhost:8080/"
        },
        "id": "_cR5bV-WhwFV",
        "outputId": "bd5ed1b3-7733-4ff5-fd2c-9124256a7e9f"
      },
      "execution_count": 5,
      "outputs": [
        {
          "output_type": "stream",
          "name": "stdout",
          "text": [
            "92\n",
            "5\n"
          ]
        }
      ]
    },
    {
      "cell_type": "code",
      "source": [
        "MIN=min(T)\n",
        "print(MIN)\n",
        "print(T.count(MIN))"
      ],
      "metadata": {
        "colab": {
          "base_uri": "https://localhost:8080/"
        },
        "id": "f0Zb9CQrhwul",
        "outputId": "2b56312e-b551-4798-fae9-8a70feddb86c"
      },
      "execution_count": 6,
      "outputs": [
        {
          "output_type": "stream",
          "name": "stdout",
          "text": [
            "45\n",
            "2\n"
          ]
        }
      ]
    },
    {
      "cell_type": "code",
      "source": [
        "t=T[::-1]\n",
        "print(t)\n",
        "print(list(T))"
      ],
      "metadata": {
        "colab": {
          "base_uri": "https://localhost:8080/"
        },
        "id": "7aKH0Wx7hzQ1",
        "outputId": "89398001-ad5d-4474-b8c0-be8d907e7f74"
      },
      "execution_count": 7,
      "outputs": [
        {
          "output_type": "stream",
          "name": "stdout",
          "text": [
            "(45, 58, 92, 89, 45.4, 76, 89.5, 45)\n",
            "[45, 89.5, 76, 45.4, 89, 92, 58, 45]\n"
          ]
        }
      ]
    },
    {
      "cell_type": "code",
      "source": [
        "def searching(data):\n",
        "    value = int(input(\"Enter any number: \"))\n",
        "    if value in data:\n",
        "        return True\n",
        "    else:\n",
        "        return False\n",
        "data=[45, 89.5, 76, 45.4, 89, 92, 58, 45]\n",
        "if searching(data):\n",
        "    print(\"Input is present\")\n",
        "else:\n",
        "    print(\"Not found\")"
      ],
      "metadata": {
        "colab": {
          "base_uri": "https://localhost:8080/"
        },
        "id": "enYArwv9h3gR",
        "outputId": "f579d224-be21-4153-f82b-6a71ed6c6969"
      },
      "execution_count": 8,
      "outputs": [
        {
          "output_type": "stream",
          "name": "stdout",
          "text": [
            "Enter any number: 76\n",
            "Input is present\n"
          ]
        }
      ]
    },
    {
      "cell_type": "code",
      "source": [
        "import random as r\n",
        "random_numbers = [r.randint(100, 900) for _ in range(100)]\n",
        "print(random_numbers)"
      ],
      "metadata": {
        "colab": {
          "base_uri": "https://localhost:8080/"
        },
        "id": "gWfHutO7h4ap",
        "outputId": "916b1940-261e-4b5a-bdd1-908f3d244f7c"
      },
      "execution_count": 9,
      "outputs": [
        {
          "output_type": "stream",
          "name": "stdout",
          "text": [
            "[233, 246, 172, 814, 557, 128, 651, 748, 859, 323, 690, 526, 239, 530, 812, 715, 305, 344, 340, 372, 154, 804, 427, 830, 707, 596, 552, 719, 277, 452, 851, 212, 815, 293, 695, 109, 777, 682, 806, 785, 247, 231, 113, 867, 537, 148, 211, 381, 349, 195, 586, 612, 186, 794, 150, 837, 574, 398, 110, 667, 512, 187, 373, 825, 560, 174, 452, 854, 817, 343, 417, 353, 453, 534, 849, 844, 584, 350, 197, 481, 123, 253, 182, 380, 586, 354, 456, 482, 253, 511, 227, 461, 329, 581, 245, 229, 709, 228, 233, 125]\n"
          ]
        }
      ]
    },
    {
      "cell_type": "code",
      "source": [
        "odd_numbers = [num for num in random_numbers if num % 2 != 0]\n",
        "count_odd=len(odd_numbers)\n",
        "print(odd_numbers)\n",
        "print(count_odd)"
      ],
      "metadata": {
        "colab": {
          "base_uri": "https://localhost:8080/"
        },
        "id": "GR-yx9hih6sn",
        "outputId": "284deb18-b938-430b-d559-41c900a93e44"
      },
      "execution_count": 10,
      "outputs": [
        {
          "output_type": "stream",
          "name": "stdout",
          "text": [
            "[233, 557, 651, 859, 323, 239, 715, 305, 427, 707, 719, 277, 851, 815, 293, 695, 109, 777, 785, 247, 231, 113, 867, 537, 211, 381, 349, 195, 837, 667, 187, 373, 825, 817, 343, 417, 353, 453, 849, 197, 481, 123, 253, 253, 511, 227, 461, 329, 581, 245, 229, 709, 233, 125]\n",
            "54\n"
          ]
        }
      ]
    },
    {
      "cell_type": "code",
      "source": [
        "even_numbers = [num for num in random_numbers if num % 2 == 0]\n",
        "count_even=len(even_numbers)\n",
        "print(even_numbers)\n",
        "print(count_even)"
      ],
      "metadata": {
        "colab": {
          "base_uri": "https://localhost:8080/"
        },
        "id": "FuVNleXqh-H5",
        "outputId": "f6c8ae68-b751-41c2-eeff-04eb556023a9"
      },
      "execution_count": 11,
      "outputs": [
        {
          "output_type": "stream",
          "name": "stdout",
          "text": [
            "[246, 172, 814, 128, 748, 690, 526, 530, 812, 344, 340, 372, 154, 804, 830, 596, 552, 452, 212, 682, 806, 148, 586, 612, 186, 794, 150, 574, 398, 110, 512, 560, 174, 452, 854, 534, 844, 584, 350, 182, 380, 586, 354, 456, 482, 228]\n",
            "46\n"
          ]
        }
      ]
    },
    {
      "cell_type": "code",
      "source": [
        "import random\n",
        "\n",
        "def is_prime(n):\n",
        "    if n < 2:\n",
        "        return False\n",
        "    for i in range(2, int(n ** 0.5) + 1):\n",
        "        if n % i == 0:\n",
        "            return False\n",
        "    return True\n",
        "\n",
        "random_numbers = [random.randint(1, 100) for _ in range(100)]\n",
        "prime_numbers = [num for num in random_numbers if is_prime(num)]\n",
        "count_primes = len(prime_numbers)\n",
        "\n",
        "print(\"Random Numbers:\", random_numbers)\n",
        "print(\"Prime Numbers:\", prime_numbers)\n",
        "print(\"Count of Prime Numbers:\", count_primes)"
      ],
      "metadata": {
        "colab": {
          "base_uri": "https://localhost:8080/"
        },
        "id": "DU_1-Bh0iAd4",
        "outputId": "0d34cd1b-ea93-487c-c84a-e7600305c9d4"
      },
      "execution_count": 21,
      "outputs": [
        {
          "output_type": "stream",
          "name": "stdout",
          "text": [
            "Random Numbers: [73, 2, 43, 88, 23, 10, 92, 51, 38, 74, 13, 6, 61, 17, 64, 57, 74, 77, 65, 3, 40, 64, 43, 77, 89, 70, 81, 81, 78, 33, 76, 20, 64, 24, 56, 4, 55, 94, 25, 30, 12, 42, 100, 99, 23, 49, 58, 76, 32, 75, 54, 50, 73, 85, 17, 63, 3, 60, 64, 31, 69, 92, 59, 22, 42, 62, 9, 66, 92, 83, 43, 41, 26, 2, 82, 8, 13, 56, 43, 12, 14, 36, 22, 53, 97, 84, 81, 97, 84, 20, 79, 49, 46, 57, 91, 56, 97, 50, 18, 93]\n",
            "Prime Numbers: [73, 2, 43, 23, 13, 61, 17, 3, 43, 89, 23, 73, 17, 3, 31, 59, 83, 43, 41, 2, 13, 43, 53, 97, 97, 79, 97]\n",
            "Count of Prime Numbers: 27\n"
          ]
        }
      ]
    },
    {
      "cell_type": "code",
      "source": [
        "A={34,56,78,90}\n",
        "B={74,45,90,23}\n",
        "print(A|B)"
      ],
      "metadata": {
        "colab": {
          "base_uri": "https://localhost:8080/"
        },
        "id": "O4EzBqmiiBoo",
        "outputId": "03de6fc6-b245-4d03-8214-f3c2215fca15"
      },
      "execution_count": 14,
      "outputs": [
        {
          "output_type": "stream",
          "name": "stdout",
          "text": [
            "{34, 74, 45, 78, 23, 56, 90}\n"
          ]
        }
      ]
    },
    {
      "cell_type": "code",
      "source": [
        "print(A&B)"
      ],
      "metadata": {
        "colab": {
          "base_uri": "https://localhost:8080/"
        },
        "id": "CNPRXydtiDn2",
        "outputId": "f2b50db0-5d4c-4d0e-efd1-542fb978b04f"
      },
      "execution_count": 15,
      "outputs": [
        {
          "output_type": "stream",
          "name": "stdout",
          "text": [
            "{90}\n"
          ]
        }
      ]
    },
    {
      "cell_type": "code",
      "source": [
        "print(B-A)\n",
        "print(A-B)\n",
        "print(A-B|B-A)"
      ],
      "metadata": {
        "colab": {
          "base_uri": "https://localhost:8080/"
        },
        "id": "5Iv-xIlriGF1",
        "outputId": "c13c0130-43ec-45c0-eee3-365e672d0bea"
      },
      "execution_count": 29,
      "outputs": [
        {
          "output_type": "stream",
          "name": "stdout",
          "text": [
            "{74, 45, 23}\n",
            "{56, 34}\n",
            "{34, 23, 56, 74, 45}\n"
          ]
        }
      ]
    },
    {
      "cell_type": "code",
      "source": [
        "is_subset = A.issubset(B)\n",
        "is_superset = B.issuperset(A)\n",
        "\n",
        "print(f\"Is A a subset of B? {is_subset}\")\n",
        "print(f\"Is B a superset of A? {is_superset}\")"
      ],
      "metadata": {
        "colab": {
          "base_uri": "https://localhost:8080/"
        },
        "id": "WO5AXki9iJin",
        "outputId": "17178ac3-c09f-4cd5-f105-0aedb26c872f"
      },
      "execution_count": 17,
      "outputs": [
        {
          "output_type": "stream",
          "name": "stdout",
          "text": [
            "Is A a subset of B? False\n",
            "Is B a superset of A? False\n"
          ]
        }
      ]
    },
    {
      "cell_type": "code",
      "source": [
        "def delete(A):\n",
        "    value = int(input(\"Enter any number: \"))\n",
        "    if value in A:\n",
        "        A.remove(value)\n",
        "        print(A)\n",
        "        return True\n",
        "    else:\n",
        "        return False\n",
        "A={34,56,78,90}\n",
        "if delete(A):\n",
        "    print(\"Input is present\")\n",
        "else:\n",
        "    print(\"Not found\")\n"
      ],
      "metadata": {
        "colab": {
          "base_uri": "https://localhost:8080/"
        },
        "id": "l--K45WciKUR",
        "outputId": "18d73a5d-d2e4-4eb7-b85f-147c0a62275b"
      },
      "execution_count": 18,
      "outputs": [
        {
          "output_type": "stream",
          "name": "stdout",
          "text": [
            "Enter any number: 78\n",
            "{56, 34, 90}\n",
            "Input is present\n"
          ]
        }
      ]
    },
    {
      "cell_type": "code",
      "source": [
        "sample_dict={\n",
        "    \"name\":\"kelly\",\n",
        "    \"age\":25,\n",
        "    \"salary\":8000,\n",
        "    \"city\":\"NEW YORK\"\n",
        "}\n",
        "sample_dict[\"location\"]=sample_dict.pop('city')\n",
        "print(sample_dict)\n"
      ],
      "metadata": {
        "colab": {
          "base_uri": "https://localhost:8080/"
        },
        "id": "gz5QlhtpiM0i",
        "outputId": "474a4157-0f5a-4a1c-d4f3-6e39bc75caf5"
      },
      "execution_count": 19,
      "outputs": [
        {
          "output_type": "stream",
          "name": "stdout",
          "text": [
            "{'name': 'kelly', 'age': 25, 'salary': 8000, 'location': 'NEW YORK'}\n"
          ]
        }
      ]
    }
  ]
}