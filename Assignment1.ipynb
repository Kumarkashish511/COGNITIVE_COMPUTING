{
  "nbformat": 4,
  "nbformat_minor": 0,
  "metadata": {
    "colab": {
      "provenance": [],
      "authorship_tag": "ABX9TyO9lcMA26ZEWWl7jtiOwGGV",
      "include_colab_link": true
    },
    "kernelspec": {
      "name": "python3",
      "display_name": "Python 3"
    },
    "language_info": {
      "name": "python"
    }
  },
  "cells": [
    {
      "cell_type": "markdown",
      "metadata": {
        "id": "view-in-github",
        "colab_type": "text"
      },
      "source": [
        "<a href=\"https://colab.research.google.com/github/Kumarkashish511/COGNITIVE_COMPUTING/blob/main/Assignment1.ipynb\" target=\"_parent\"><img src=\"https://colab.research.google.com/assets/colab-badge.svg\" alt=\"Open In Colab\"/></a>"
      ]
    },
    {
      "cell_type": "code",
      "source": [
        "print('kashish Mehra')\n"
      ],
      "metadata": {
        "colab": {
          "base_uri": "https://localhost:8080/"
        },
        "id": "2uO7spTpwc_Y",
        "outputId": "e7538ad2-4cba-48f1-aafe-1b2f571a881b"
      },
      "execution_count": null,
      "outputs": [
        {
          "output_type": "stream",
          "name": "stdout",
          "text": [
            "kashish Mehra\n"
          ]
        }
      ]
    },
    {
      "cell_type": "code",
      "execution_count": null,
      "metadata": {
        "colab": {
          "base_uri": "https://localhost:8080/"
        },
        "id": "N-lo-cBOuzuJ",
        "outputId": "e8aef5ef-11d2-4988-820d-df8d2e73faa3"
      },
      "outputs": [
        {
          "output_type": "stream",
          "name": "stdout",
          "text": [
            "5\n",
            "hello world\n",
            "house no 288\n"
          ]
        }
      ],
      "source": [
        "x = 2+3\n",
        "y = \"hello \"+\"world\"\n",
        "z = \"house no. \"+str(288)\n",
        "print(x)\n",
        "print(y)\n",
        "print(z)"
      ]
    },
    {
      "cell_type": "code",
      "source": [
        "x=int(input('Enter a no:'))\n",
        "\n",
        "if(x==0):\n",
        "    print('Zero')\n",
        "elif(x>0):\n",
        "    print('Positive Number')\n",
        "elif(x<0):\n",
        "    print('Negative Number')\n",
        "\n",
        "if(x%2==0):\n",
        "    print('Number is Even')\n",
        "else:\n",
        "    print('Number is Odd')"
      ],
      "metadata": {
        "colab": {
          "base_uri": "https://localhost:8080/"
        },
        "id": "itg0F08Z3E7n",
        "outputId": "2ed67889-fd53-4fb3-f16a-4902db2ddecd"
      },
      "execution_count": null,
      "outputs": [
        {
          "output_type": "stream",
          "name": "stdout",
          "text": [
            "Enter a no:3\n",
            "Positive number\n",
            "Number is odd\n"
          ]
        }
      ]
    },
    {
      "cell_type": "code",
      "source": [
        "for i in range(1,11):\n",
        "  print(i)"
      ],
      "metadata": {
        "colab": {
          "base_uri": "https://localhost:8080/"
        },
        "id": "mNFaOOlt3IjA",
        "outputId": "db44c628-3145-4fe7-94b2-2613559d4296"
      },
      "execution_count": null,
      "outputs": [
        {
          "output_type": "stream",
          "name": "stdout",
          "text": [
            "1\n",
            "2\n",
            "3\n",
            "4\n",
            "5\n",
            "6\n",
            "7\n",
            "8\n",
            "9\n",
            "10\n"
          ]
        }
      ]
    },
    {
      "cell_type": "code",
      "source": [
        "i = 0\n",
        "while(i<11):\n",
        "  print(i)\n",
        "  i=i+1\n",
        "\n"
      ],
      "metadata": {
        "colab": {
          "base_uri": "https://localhost:8080/"
        },
        "id": "_7M6pCPM_UbF",
        "outputId": "8dd7611a-40cd-4209-c013-0084b328ab0e"
      },
      "execution_count": null,
      "outputs": [
        {
          "output_type": "stream",
          "name": "stdout",
          "text": [
            "0\n",
            "1\n",
            "2\n",
            "3\n",
            "4\n",
            "5\n",
            "6\n",
            "7\n",
            "8\n",
            "9\n",
            "10\n"
          ]
        }
      ]
    },
    {
      "cell_type": "code",
      "source": [
        "sum=0\n",
        "for i in range(1,101):\n",
        "  sum=sum+i\n",
        "print('Sum:',sum)"
      ],
      "metadata": {
        "colab": {
          "base_uri": "https://localhost:8080/"
        },
        "id": "hKG8djpu_-Ka",
        "outputId": "777db41d-3f16-4bb3-dd90-4c063e877f91"
      },
      "execution_count": null,
      "outputs": [
        {
          "output_type": "stream",
          "name": "stdout",
          "text": [
            "Sum: 5050\n"
          ]
        }
      ]
    },
    {
      "cell_type": "code",
      "source": [
        "List=[10,20,30,40,50]\n",
        "print('MAX:',max(List))\n",
        "print('MIN:',min(List))"
      ],
      "metadata": {
        "colab": {
          "base_uri": "https://localhost:8080/"
        },
        "id": "xf3-P3l0A43P",
        "outputId": "2091c51d-75fd-424c-aa31-279ad8d927cc"
      },
      "execution_count": null,
      "outputs": [
        {
          "output_type": "stream",
          "name": "stdout",
          "text": [
            "MAX: 5\n",
            "MIN: 1\n"
          ]
        }
      ]
    },
    {
      "cell_type": "code",
      "source": [
        "dict1={1:'first',2:'second',3:'Third'}\n",
        "x=eval(input('Enter the key value:'))\n",
        "print('Value:',dict1[x])"
      ],
      "metadata": {
        "colab": {
          "base_uri": "https://localhost:8080/"
        },
        "id": "Z7aJyt3JBm7e",
        "outputId": "25230dd5-8b6f-4319-c70d-a29c867e3c95"
      },
      "execution_count": null,
      "outputs": [
        {
          "output_type": "stream",
          "name": "stdout",
          "text": [
            "Enter the key value:1\n",
            "Value: first\n"
          ]
        }
      ]
    },
    {
      "cell_type": "code",
      "source": [
        "List=[12,23,45,34,21,32,98,78,69]\n",
        "List.sort()\n",
        "print('Sorted list in ascending order:',List)\n",
        "List.sort(reverse=True)\n",
        "print('Sorted list in decendind list:',List)"
      ],
      "metadata": {
        "colab": {
          "base_uri": "https://localhost:8080/"
        },
        "id": "e51qYD7LCee-",
        "outputId": "2c7044a1-fe0a-4c01-9b47-aa92f0a82994"
      },
      "execution_count": null,
      "outputs": [
        {
          "output_type": "stream",
          "name": "stdout",
          "text": [
            "sorted list in ascending order: [12, 21, 23, 32, 34, 45, 69, 78, 98]\n",
            "sorted list in decendind list: [98, 78, 69, 45, 34, 32, 23, 21, 12]\n"
          ]
        }
      ]
    },
    {
      "cell_type": "code",
      "source": [
        "dict1={1:'first',2:'second',3:'Third'}\n",
        "dict2={4:'fourth',5:'fifth',6:'sixth'}\n",
        "print('merged dictionaries:',dict1|dict2)"
      ],
      "metadata": {
        "colab": {
          "base_uri": "https://localhost:8080/"
        },
        "id": "WgxAr7lyDoO7",
        "outputId": "2fc3deb2-2759-442e-f410-6573586312b4"
      },
      "execution_count": null,
      "outputs": [
        {
          "output_type": "stream",
          "name": "stdout",
          "text": [
            "merged dictionaries: {1: 'first', 2: 'second', 3: 'Third', 4: 'fourth', 5: 'fifth', 6: 'sixth'}\n"
          ]
        }
      ]
    },
    {
      "cell_type": "code",
      "source": [
        "x=input('enter a string: ')\n",
        "\n",
        "count=0\n",
        "for i in x:\n",
        "  if i in \"aeiou\":\n",
        "    count=count+1\n",
        "\n",
        "print('number of vowels:',count)\n"
      ],
      "metadata": {
        "colab": {
          "base_uri": "https://localhost:8080/"
        },
        "id": "wdJATpMREsws",
        "outputId": "8720c248-ce5c-42a4-f772-6716b291e4e8"
      },
      "execution_count": null,
      "outputs": [
        {
          "output_type": "stream",
          "name": "stdout",
          "text": [
            "enter a string:kashish\n",
            "number of vowels: 2\n"
          ]
        }
      ]
    },
    {
      "cell_type": "code",
      "source": [
        "x=\" kashish mehra \"\n",
        "rev = x[::-1]\n",
        "print(rev)"
      ],
      "metadata": {
        "colab": {
          "base_uri": "https://localhost:8080/"
        },
        "id": "guQgVOWFFavY",
        "outputId": "1b951643-7bef-4ecf-8d3d-a07702115d76"
      },
      "execution_count": null,
      "outputs": [
        {
          "output_type": "stream",
          "name": "stdout",
          "text": [
            "arhem hsihsak \n"
          ]
        }
      ]
    },
    {
      "cell_type": "code",
      "source": [
        "x=input('enter a string: ')\n",
        "rev=x[::-1]\n",
        "if (rev==x):\n",
        "  print('string is palinrome')\n",
        "else:\n",
        "  print('string is not paliondrome')\n",
        "\n",
        "\n"
      ],
      "metadata": {
        "colab": {
          "base_uri": "https://localhost:8080/"
        },
        "id": "-O8XpfVqGZhJ",
        "outputId": "ec0c0bcf-99f4-43a4-bad8-f520466da177"
      },
      "execution_count": null,
      "outputs": [
        {
          "output_type": "stream",
          "name": "stdout",
          "text": [
            "enter a string: kassak\n",
            "string is palinrome\n"
          ]
        }
      ]
    },
    {
      "cell_type": "code",
      "source": [
        "file=open(\"file.txt\",\"w\")\n",
        "\n",
        "file.write(\" India\\n\")\n",
        "print(\"file work is done\")\n",
        "file.close()\n",
        "\n",
        "file=open(\"file.txt\",\"r\")\n",
        "print(file.read())\n",
        "file.close()\n",
        "\n"
      ],
      "metadata": {
        "colab": {
          "base_uri": "https://localhost:8080/"
        },
        "id": "KOOkRJJUHkb4",
        "outputId": "083c902b-ca9f-442a-d2c1-29e6714318ea"
      },
      "execution_count": null,
      "outputs": [
        {
          "output_type": "stream",
          "name": "stdout",
          "text": [
            "file work is done\n",
            " India\n",
            "\n"
          ]
        }
      ]
    },
    {
      "cell_type": "code",
      "source": [
        "file=open(\"file.txt\",\"a\")\n",
        "file.write(\"something is cooking\\n\")\n",
        "file.close()\n",
        "\n",
        "file=open(\"file.txt\",\"r\")\n",
        "print(file.read())\n",
        "file.close()\n"
      ],
      "metadata": {
        "colab": {
          "base_uri": "https://localhost:8080/"
        },
        "id": "6yqVE0_qJmUI",
        "outputId": "2db89dfc-bf7f-4377-94e7-2e470b046b74"
      },
      "execution_count": null,
      "outputs": [
        {
          "output_type": "stream",
          "name": "stdout",
          "text": [
            " India\n",
            "something is cooking\n",
            "\n"
          ]
        }
      ]
    },
    {
      "cell_type": "code",
      "source": [
        "file=open(\"file.txt\",\"r\")\n",
        "print('Number of lines in a text file:',len(file.readlines()))\n",
        "file.close()"
      ],
      "metadata": {
        "colab": {
          "base_uri": "https://localhost:8080/"
        },
        "id": "9RO0x2bLKdJK",
        "outputId": "01311d6a-1d2d-4ca9-e701-7a2dec22a1a3"
      },
      "execution_count": null,
      "outputs": [
        {
          "output_type": "stream",
          "name": "stdout",
          "text": [
            "Number of lines in a text file: 2\n"
          ]
        }
      ]
    },
    {
      "cell_type": "code",
      "source": [
        "x=int(input('Enter the first number:'))\n",
        "y=int(input('Enter the second number:'))\n",
        "\n",
        "try:\n",
        "    result=x/y\n",
        "    print('Result:',result)\n",
        "except:\n",
        "    print('Zero divison error')"
      ],
      "metadata": {
        "colab": {
          "base_uri": "https://localhost:8080/"
        },
        "id": "A4IXTSVdKqfJ",
        "outputId": "ff209754-984d-4ca0-8941-560ee5964e1a"
      },
      "execution_count": null,
      "outputs": [
        {
          "output_type": "stream",
          "name": "stdout",
          "text": [
            "Enter a number:2\n",
            "Enter a number:3\n",
            "Result: 0.6666666666666666\n"
          ]
        }
      ]
    },
    {
      "cell_type": "code",
      "source": [
        "try:\n",
        "    num=int(input('Enter a number:'))\n",
        "    print('Valid')\n",
        "except:\n",
        "    print('no number is entered ')"
      ],
      "metadata": {
        "colab": {
          "base_uri": "https://localhost:8080/"
        },
        "id": "996VwLgMLWuC",
        "outputId": "f22b10c0-6025-4fd1-a43c-eaf748757108"
      },
      "execution_count": null,
      "outputs": [
        {
          "output_type": "stream",
          "name": "stdout",
          "text": [
            "Enter a number:2\n",
            "Valid\n"
          ]
        }
      ]
    },
    {
      "cell_type": "code",
      "source": [
        "try:\n",
        "  x > 3\n",
        "except:\n",
        "  print(\"Something went wrong\")\n",
        "else:\n",
        "  print(\"Nothing went wrong\")\n",
        "finally:\n",
        "  print(\"The try...except block is finished\")\n"
      ],
      "metadata": {
        "colab": {
          "base_uri": "https://localhost:8080/"
        },
        "id": "KmoEZmsuLz_Y",
        "outputId": "a6ffb23d-a397-4a20-a717-720f282e5279"
      },
      "execution_count": null,
      "outputs": [
        {
          "output_type": "stream",
          "name": "stdout",
          "text": [
            "Nothing went wrong\n",
            "The try...except block is finished\n"
          ]
        }
      ]
    },
    {
      "cell_type": "code",
      "source": [
        "print('Five random numbers')\n",
        "for i in range(5):\n",
        "    print(random.randint(1,100))"
      ],
      "metadata": {
        "colab": {
          "base_uri": "https://localhost:8080/"
        },
        "id": "7dM-zZblM0dz",
        "outputId": "98057799-d7c1-46d3-dabd-e4fc18443766"
      },
      "execution_count": null,
      "outputs": [
        {
          "output_type": "stream",
          "name": "stdout",
          "text": [
            "Five random numbers\n",
            "78\n",
            "11\n",
            "62\n",
            "37\n",
            "90\n"
          ]
        }
      ]
    },
    {
      "cell_type": "code",
      "source": [
        "num=random.randint(1,100)\n",
        "flag=True\n",
        "for i in range(2,int(num/2) +1):\n",
        "    if(num%i==0):\n",
        "        flag=False\n",
        "        break\n",
        "if(flag==True):\n",
        "    print(num,' is prime')\n",
        "else:\n",
        "    print(num,' is not prime')"
      ],
      "metadata": {
        "id": "oSJvy3vMN3IR"
      },
      "execution_count": null,
      "outputs": []
    },
    {
      "cell_type": "code",
      "source": [
        "chance=int(input('Enter 0 to roll a die:'))\n",
        "if(chance==0):\n",
        "    print('You got ',random.randint(1,6))"
      ],
      "metadata": {
        "colab": {
          "base_uri": "https://localhost:8080/"
        },
        "id": "sLorYSHsOISu",
        "outputId": "ebb984a2-6548-4c33-d051-a6c13160932e"
      },
      "execution_count": null,
      "outputs": [
        {
          "output_type": "stream",
          "name": "stdout",
          "text": [
            "Enter 0 to roll a die:0\n",
            "You got  1\n"
          ]
        }
      ]
    },
    {
      "cell_type": "code",
      "source": [
        "list=[100,99,98,97,96,95,94,93,92,91,90]\n",
        "random.shuffle(list)\n",
        "print('Shuffled: ',list)"
      ],
      "metadata": {
        "colab": {
          "base_uri": "https://localhost:8080/"
        },
        "id": "OvgXUoksOYVg",
        "outputId": "582f8a41-86f8-4bfb-f899-9a330597f065"
      },
      "execution_count": null,
      "outputs": [
        {
          "output_type": "stream",
          "name": "stdout",
          "text": [
            "Shuffled:  [97, 94, 98, 95, 99, 92, 93, 90, 100, 91, 96]\n"
          ]
        }
      ]
    },
    {
      "cell_type": "code",
      "source": [
        "number=random.choice(list)\n",
        "print('Number randomly chosen: ',number)"
      ],
      "metadata": {
        "colab": {
          "base_uri": "https://localhost:8080/"
        },
        "id": "Oi6LZIjdOrHZ",
        "outputId": "1552a8f0-219d-4a90-9074-d8219355c6a1"
      },
      "execution_count": null,
      "outputs": [
        {
          "output_type": "stream",
          "name": "stdout",
          "text": [
            "Number randomly chosen:  90\n"
          ]
        }
      ]
    },
    {
      "cell_type": "code",
      "source": [
        "list_of_chars=\"ABCDEFGHIJKLMNOPQRSTUVWXYZabcdefghijklmnopqrstuvwxyz1234567890!@#$%^&*()\"\n",
        "length=int(input('Enter the length of password:'))\n",
        "password=\"\"\n",
        "for i in range(length):\n",
        "    password=password+random.choice(list_of_chars)\n",
        "print(\"Your password is: \",password)"
      ],
      "metadata": {
        "colab": {
          "base_uri": "https://localhost:8080/"
        },
        "id": "NhtYN1y-Ozq5",
        "outputId": "6a487db1-dcc2-419f-f183-0f33e93f194f"
      },
      "execution_count": null,
      "outputs": [
        {
          "output_type": "stream",
          "name": "stdout",
          "text": [
            "Enter the length of password:5\n",
            "Your password is:  XSgxc\n"
          ]
        }
      ]
    },
    {
      "cell_type": "code",
      "source": [
        "Card=[\"hearts\",\"diamond\",\"clubs\",\"spades\"]\n",
        "Rank=[2,3,4,5,6,7,8,9,0,\"Jack\",\"Queen\",\"King\",\"Ace\"]\n",
        "card=random.choice(Card)\n",
        "rank=random.choice(Rank)\n",
        "print(rank,\" of \",card)\n",
        "\n"
      ],
      "metadata": {
        "colab": {
          "base_uri": "https://localhost:8080/"
        },
        "id": "ASJhjU3YPJTh",
        "outputId": "5c9005ca-acbb-411b-d007-5513cbdb3936"
      },
      "execution_count": null,
      "outputs": [
        {
          "output_type": "stream",
          "name": "stdout",
          "text": [
            "Queen  of  hearts\n"
          ]
        }
      ]
    },
    {
      "cell_type": "code",
      "source": [
        "import math\n",
        "a=int(input('Enter a number:'))\n",
        "b=math.pow(a,1/2)\n",
        "print('Square root of ',a,' is:',b)"
      ],
      "metadata": {
        "colab": {
          "base_uri": "https://localhost:8080/"
        },
        "id": "9G_g4HaKSkRG",
        "outputId": "a3b2dd30-870e-4650-9b34-93290e9af155"
      },
      "execution_count": null,
      "outputs": [
        {
          "output_type": "stream",
          "name": "stdout",
          "text": [
            "Enter a number:4\n",
            "Square root of  4  is: 2.0\n"
          ]
        }
      ]
    },
    {
      "cell_type": "code",
      "source": [
        "from datetime import datetime\n",
        "now=datetime.now()\n",
        "date=now.strftime(\"%d/%m/%Y\")\n",
        "time=now.strftime(\"%H:%M:%S\")\n",
        "print(\"Current Date:\",date)\n",
        "print(\"Current time:\",time)"
      ],
      "metadata": {
        "colab": {
          "base_uri": "https://localhost:8080/"
        },
        "id": "LK5cO4-sTSyS",
        "outputId": "1166846a-492e-4af9-c2e2-a04b7e9e680d"
      },
      "execution_count": null,
      "outputs": [
        {
          "output_type": "stream",
          "name": "stdout",
          "text": [
            "Current Date: 18/01/2025\n",
            "Current time: 12:07:19\n"
          ]
        }
      ]
    },
    {
      "cell_type": "code",
      "source": [
        "import os\n",
        "print('List of files:',os.listdir())"
      ],
      "metadata": {
        "colab": {
          "base_uri": "https://localhost:8080/"
        },
        "id": "Fuudg_DXT-wN",
        "outputId": "dd44a232-794d-4cb6-ef69-5919a78a3da6"
      },
      "execution_count": null,
      "outputs": [
        {
          "output_type": "stream",
          "name": "stdout",
          "text": [
            "List of files: ['.config', 'file.txt', 'sample_data']\n"
          ]
        }
      ]
    }
  ]
}