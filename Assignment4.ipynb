{
  "nbformat": 4,
  "nbformat_minor": 0,
  "metadata": {
    "colab": {
      "provenance": [],
      "authorship_tag": "ABX9TyPDJVAaadA8szXSIgJmo6NQ",
      "include_colab_link": true
    },
    "kernelspec": {
      "name": "python3",
      "display_name": "Python 3"
    },
    "language_info": {
      "name": "python"
    }
  },
  "cells": [
    {
      "cell_type": "markdown",
      "metadata": {
        "id": "view-in-github",
        "colab_type": "text"
      },
      "source": [
        "<a href=\"https://colab.research.google.com/github/Kumarkashish511/COGNITIVE_COMPUTING/blob/main/Assignment4.ipynb\" target=\"_parent\"><img src=\"https://colab.research.google.com/assets/colab-badge.svg\" alt=\"Open In Colab\"/></a>"
      ]
    },
    {
      "cell_type": "code",
      "execution_count": null,
      "metadata": {
        "colab": {
          "base_uri": "https://localhost:8080/"
        },
        "id": "-RdMEmQvUJy3",
        "outputId": "11db1194-fc87-4182-ad0c-53b8e2cdec2a"
      },
      "outputs": [
        {
          "output_type": "stream",
          "name": "stdout",
          "text": [
            "Addition:  [ 4  6  8 10 12]\n",
            "Multiplication:  [ 6 12 18 24 30]\n",
            "Division:  [1. 2. 3. 4. 5.]\n"
          ]
        }
      ],
      "source": [
        "import numpy as np\n",
        "\n",
        "arr= np.array([2,4,6,8,10])\n",
        "print(\"Addition: \",arr+2)\n",
        "print(\"Multiplication: \",arr*3)\n",
        "print(\"Division: \",arr/2)"
      ]
    },
    {
      "cell_type": "code",
      "source": [
        "import numpy as np\n",
        "\n",
        "arr=np.array([1,2,3,6,4,5])\n",
        "print(f\"Original array: {arr}\")\n",
        "print(f\"Reversed array: {arr[::-1]}\")\n",
        "\n",
        "def most_frequent_with_indices(arr):\n",
        "    counts = np.bincount(arr)\n",
        "    max_count = np.max(counts)\n",
        "    most_frequent_values = np.where(counts == max_count)[0]\n",
        "    indices_dict = {value: np.where(arr == value)[0] for value in most_frequent_values}\n",
        "    return most_frequent_values, indices_dict\n",
        "\n",
        "x=np.array([1,2,3,4,5,1,2,1,1,1])\n",
        "y=np.array([1,1,1,2,3,4,2,4,3,3])\n",
        "frequent_x,indices_x= most_frequent_with_indices(x)\n",
        "frequent_y,indices_y= most_frequent_with_indices(y)\n",
        "print(f\"Most frequent in x: {frequent_x} at indice(s) {indices_x}\")\n",
        "print(f\"Most frequent in y: {frequent_y} at indice(s) {indices_y}\")"
      ],
      "metadata": {
        "colab": {
          "base_uri": "https://localhost:8080/"
        },
        "id": "KzcV2u8sGIQ1",
        "outputId": "1decda37-2e6b-4444-fae1-53ad4d7310a5"
      },
      "execution_count": null,
      "outputs": [
        {
          "output_type": "stream",
          "name": "stdout",
          "text": [
            "Original array: [1 2 3 6 4 5]\n",
            "Reversed array: [5 4 6 3 2 1]\n",
            "Most frequent in x: [1] at indice(s) {1: array([0, 5, 7, 8, 9])}\n",
            "Most frequent in y: [1 3] at indice(s) {1: array([0, 1, 2]), 3: array([4, 8, 9])}\n"
          ]
        }
      ]
    },
    {
      "cell_type": "code",
      "source": [
        "import numpy as np\n",
        "\n",
        "arr=np.array([[10,20,30],[40,50,60],[70,80,90]])\n",
        "print(arr[0][1])\n",
        "print(arr[2][0])"
      ],
      "metadata": {
        "colab": {
          "base_uri": "https://localhost:8080/"
        },
        "id": "_Hkb5ENOHGq0",
        "outputId": "dffbac70-9b77-497d-a9c6-daa9d59feabf"
      },
      "execution_count": null,
      "outputs": [
        {
          "output_type": "stream",
          "name": "stdout",
          "text": [
            "20\n",
            "70\n"
          ]
        }
      ]
    },
    {
      "cell_type": "code",
      "source": [
        "import numpy as np\n",
        "\n",
        "Kumar_Kashish=np.linspace(10,100,25)\n",
        "print(Kumar_Kashish)\n",
        "print(\"Dimensions of array: \",Kumar_Kashish.ndim)\n",
        "print(\"Shape: \",Kumar_Kashish.shape)\n",
        "print(\"Total elements: \",Kumar_Kashish.size)\n",
        "print(\"Data type: \",Kumar_Kashish.dtype)\n",
        "print(\"Total bytes: \",Kumar_Kashish.nbytes)\n",
        "\n",
        "Transpose_re=Kumar_Kashish.reshape(25,1)\n",
        "print(\"Using reshape, Transpose: \")\n",
        "print(Transpose_re)\n",
        "\n",
        "Transpose_T=Kumar_Kashish.T\n",
        "print(\"Using T attribute, Transpose: \")\n",
        "print(Transpose_T)\n",
        "\n",
        "print(\"No we Can't use T attribute.\")"
      ],
      "metadata": {
        "colab": {
          "base_uri": "https://localhost:8080/"
        },
        "id": "Exo-wwhBHPof",
        "outputId": "517e1479-4a9d-4bfa-a087-0eaff2a899e6"
      },
      "execution_count": null,
      "outputs": [
        {
          "output_type": "stream",
          "name": "stdout",
          "text": [
            "[ 10.    13.75  17.5   21.25  25.    28.75  32.5   36.25  40.    43.75\n",
            "  47.5   51.25  55.    58.75  62.5   66.25  70.    73.75  77.5   81.25\n",
            "  85.    88.75  92.5   96.25 100.  ]\n",
            "Dimensions of array:  1\n",
            "Shape:  (25,)\n",
            "Total elements:  25\n",
            "Data type:  float64\n",
            "Total bytes:  200\n",
            "Using reshape, Transpose: \n",
            "[[ 10.  ]\n",
            " [ 13.75]\n",
            " [ 17.5 ]\n",
            " [ 21.25]\n",
            " [ 25.  ]\n",
            " [ 28.75]\n",
            " [ 32.5 ]\n",
            " [ 36.25]\n",
            " [ 40.  ]\n",
            " [ 43.75]\n",
            " [ 47.5 ]\n",
            " [ 51.25]\n",
            " [ 55.  ]\n",
            " [ 58.75]\n",
            " [ 62.5 ]\n",
            " [ 66.25]\n",
            " [ 70.  ]\n",
            " [ 73.75]\n",
            " [ 77.5 ]\n",
            " [ 81.25]\n",
            " [ 85.  ]\n",
            " [ 88.75]\n",
            " [ 92.5 ]\n",
            " [ 96.25]\n",
            " [100.  ]]\n",
            "Using T attribute, Transpose: \n",
            "[ 10.    13.75  17.5   21.25  25.    28.75  32.5   36.25  40.    43.75\n",
            "  47.5   51.25  55.    58.75  62.5   66.25  70.    73.75  77.5   81.25\n",
            "  85.    88.75  92.5   96.25 100.  ]\n",
            "Conclusion: No we Can't use T attribute.\n"
          ]
        }
      ]
    },
    {
      "cell_type": "code",
      "source": [
        "import numpy as np\n",
        "\n",
        "ucs420_Kashish= np.array([[10,20,30,40],\n",
        "                  [50,60,70,80],\n",
        "                  [90,15,20,35]])\n",
        "print(f\"Orginal:\\n{ucs420_Kashish}\")\n",
        "print(\"mean: \",np.mean(ucs420_Kashish))\n",
        "print(\"median: \",np.median(ucs420_Kashish))\n",
        "print(\"max: \",np.max(ucs420_Kashish))\n",
        "print(\"min: \",np.min(ucs420_Kashish))\n",
        "print(\"unique elements: \",np.unique(ucs420_Kashish))\n",
        "reshaped_ucs420_Kashish= ucs420_Kashish.reshape(4,3)\n",
        "print(f\"Reshaped:\\n{reshaped_ucs420_Kashish}\")\n",
        "resized_ucs420_Kashish = np.resize(ucs420_Kashish,(2,3))\n",
        "print(f\"Resized:\\n{resized_ucs420_Kashish}\")"
      ],
      "metadata": {
        "colab": {
          "base_uri": "https://localhost:8080/"
        },
        "id": "GfNPjXdAHh6b",
        "outputId": "626fdb35-ca7d-4217-eda2-2394f44243f9"
      },
      "execution_count": null,
      "outputs": [
        {
          "output_type": "stream",
          "name": "stdout",
          "text": [
            "Orginal:\n",
            "[[10 20 30 40]\n",
            " [50 60 70 80]\n",
            " [90 15 20 35]]\n",
            "mean:  43.333333333333336\n",
            "median:  37.5\n",
            "max:  90\n",
            "min:  10\n",
            "unique elements:  [10 15 20 30 35 40 50 60 70 80 90]\n",
            "Reshaped:\n",
            "[[10 20 30]\n",
            " [40 50 60]\n",
            " [70 80 90]\n",
            " [15 20 35]]\n",
            "Resized:\n",
            "[[10 20 30]\n",
            " [40 50 60]]\n"
          ]
        }
      ]
    }
  ]
}